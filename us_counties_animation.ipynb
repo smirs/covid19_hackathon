{
 "cells": [
  {
   "cell_type": "markdown",
   "metadata": {},
   "source": [
    "This Jupyter Notebook include some basic data analysis and visualizations of NYTimes data on COVID-19 which caused a global pandemic in 2020 [data: https://github.com/nytimes/covid-19-data]\n",
    "\n",
    "contact: 🐦twitter@smirshekari"
   ]
  },
  {
   "cell_type": "code",
   "execution_count": 1,
   "metadata": {},
   "outputs": [
    {
     "data": {
      "text/html": [
       "<style>.container { width:100% !important; }</style>"
      ],
      "text/plain": [
       "<IPython.core.display.HTML object>"
      ]
     },
     "metadata": {},
     "output_type": "display_data"
    }
   ],
   "source": [
    "from IPython.core.display import display, HTML\n",
    "display(HTML(\"<style>.container { width:100% !important; }</style>\"))"
   ]
  },
  {
   "cell_type": "code",
   "execution_count": 2,
   "metadata": {},
   "outputs": [],
   "source": [
    "%matplotlib inline\n",
    "import pandas as pd\n",
    "import numpy as np\n",
    "import seaborn as sns\n",
    "import matplotlib.pyplot as plt\n",
    "import plotly.offline as py\n",
    "import plotly.figure_factory as ff\n",
    "import plotly.express as px\n",
    "import sys\n",
    "import folium\n",
    "import json\n",
    "import os\n",
    "import os.path\n",
    "from os import path"
   ]
  },
  {
   "cell_type": "code",
   "execution_count": 3,
   "metadata": {},
   "outputs": [
    {
     "data": {
      "text/plain": [
       "True"
      ]
     },
     "execution_count": 3,
     "metadata": {},
     "output_type": "execute_result"
    }
   ],
   "source": [
    "path.exists('/home/smirs/git_repos/mavad/images/New York/New York_2020-04-02.jpeg')"
   ]
  },
  {
   "cell_type": "code",
   "execution_count": 4,
   "metadata": {},
   "outputs": [],
   "source": [
    "# Import data\n",
    "\n",
    "corona_us_counties = pd.read_csv('/home/smirs/git_repos/mavad/covid-19-data/us-counties.csv')"
   ]
  },
  {
   "cell_type": "code",
   "execution_count": 5,
   "metadata": {},
   "outputs": [],
   "source": [
    "# clean data\n",
    "corona_us_counties = corona_us_counties.dropna()\n",
    "corona_us_counties['fips'] = corona_us_counties['fips'].apply(int)\n",
    "corona_us_counties['fips'] = corona_us_counties['fips'].apply(str)\n",
    "corona_us_counties['fips'] = corona_us_counties['fips'].apply(lambda x: x.zfill(5))"
   ]
  },
  {
   "cell_type": "code",
   "execution_count": 6,
   "metadata": {},
   "outputs": [],
   "source": [
    "# palette\n",
    "colorscale = sns.color_palette(\"YlOrRd\", 10)\n",
    "\n",
    "# colorscale = px.colors.sequential.Reds\n",
    "#print(colorscale)"
   ]
  },
  {
   "cell_type": "code",
   "execution_count": 7,
   "metadata": {},
   "outputs": [],
   "source": [
    "colorscale_con = []\n",
    "for comp in colorscale:\n",
    "    colorscale_con.append('rgb'+str(tuple([int(x * 255) for x in comp])))\n",
    "#colorscale_con"
   ]
  },
  {
   "cell_type": "code",
   "execution_count": 8,
   "metadata": {},
   "outputs": [
    {
     "data": {
      "text/plain": [
       "array(['Washington', 'Illinois', 'California', 'Arizona', 'Massachusetts',\n",
       "       'Wisconsin', 'Texas', 'Nebraska', 'Utah', 'Oregon', 'Florida',\n",
       "       'Georgia', 'New Hampshire', 'North Carolina', 'New Jersey',\n",
       "       'New York', 'Colorado', 'Maryland', 'Nevada', 'Tennessee',\n",
       "       'Hawaii', 'Indiana', 'Kentucky', 'Minnesota', 'Oklahoma',\n",
       "       'Pennsylvania', 'South Carolina', 'District of Columbia', 'Kansas',\n",
       "       'Missouri', 'Vermont', 'Virginia', 'Connecticut', 'Iowa',\n",
       "       'Louisiana', 'Ohio', 'Michigan', 'South Dakota', 'Arkansas',\n",
       "       'Delaware', 'Mississippi', 'New Mexico', 'North Dakota', 'Wyoming',\n",
       "       'Alaska', 'Maine', 'Alabama', 'Idaho', 'Montana', 'West Virginia',\n",
       "       'Rhode Island'], dtype=object)"
      ]
     },
     "execution_count": 8,
     "metadata": {},
     "output_type": "execute_result"
    }
   ],
   "source": [
    "corona_us_counties['state'].unique()"
   ]
  },
  {
   "cell_type": "code",
   "execution_count": 9,
   "metadata": {},
   "outputs": [],
   "source": [
    "StateRange = ['New York', 'California', 'Washington', 'Missouri', 'Illinois', 'Louisiana', 'New Jersey', 'Michigan', 'Florida']\n",
    "              \n",
    "# StateRange = ['Indiana', 'Iowa', 'Minnesota', 'Rhode Island', 'Connecticut']\n",
    "\n",
    "# StateRange = ['Arizona']\n",
    "\n",
    "StartDate = '2020-02-15'\n",
    "\n",
    "# data cut\n",
    "corona_us_counties = corona_us_counties.loc[corona_us_counties['date']>=StartDate,:]\n",
    "\n",
    "DatePool = corona_us_counties['date'].unique()\n",
    "DateRange = DatePool[0:len(DatePool)]\n"
   ]
  },
  {
   "cell_type": "code",
   "execution_count": 10,
   "metadata": {},
   "outputs": [
    {
     "ename": "NameError",
     "evalue": "name 'thisDate' is not defined",
     "output_type": "error",
     "traceback": [
      "\u001b[0;31m---------------------------------------------------------------------------\u001b[0m",
      "\u001b[0;31mNameError\u001b[0m                                 Traceback (most recent call last)",
      "\u001b[0;32m<ipython-input-10-47bd6324edbf>\u001b[0m in \u001b[0;36m<module>\u001b[0;34m\u001b[0m\n\u001b[1;32m      5\u001b[0m \u001b[0;32mfor\u001b[0m \u001b[0mthisState\u001b[0m \u001b[0;32min\u001b[0m \u001b[0mStateRange\u001b[0m\u001b[0;34m:\u001b[0m\u001b[0;34m\u001b[0m\u001b[0;34m\u001b[0m\u001b[0m\n\u001b[1;32m      6\u001b[0m     \u001b[0mcorona_us_state_counties\u001b[0m \u001b[0;34m=\u001b[0m \u001b[0mcorona_us_counties\u001b[0m\u001b[0;34m.\u001b[0m\u001b[0mloc\u001b[0m\u001b[0;34m[\u001b[0m\u001b[0mcorona_us_counties\u001b[0m\u001b[0;34m[\u001b[0m\u001b[0;34m'state'\u001b[0m\u001b[0;34m]\u001b[0m\u001b[0;34m==\u001b[0m\u001b[0mthisState\u001b[0m\u001b[0;34m,\u001b[0m\u001b[0;34m:\u001b[0m\u001b[0;34m]\u001b[0m\u001b[0;34m\u001b[0m\u001b[0;34m\u001b[0m\u001b[0m\n\u001b[0;32m----> 7\u001b[0;31m     \u001b[0mprint\u001b[0m\u001b[0;34m(\u001b[0m\u001b[0;34m'--------'\u001b[0m\u001b[0;34m+\u001b[0m\u001b[0mthisState\u001b[0m\u001b[0;34m+\u001b[0m \u001b[0;34m'_'\u001b[0m\u001b[0;34m+\u001b[0m \u001b[0mthisDate\u001b[0m\u001b[0;34m+\u001b[0m \u001b[0;34m'---------'\u001b[0m\u001b[0;34m)\u001b[0m\u001b[0;34m\u001b[0m\u001b[0;34m\u001b[0m\u001b[0m\n\u001b[0m\u001b[1;32m      8\u001b[0m \u001b[0;34m\u001b[0m\u001b[0m\n\u001b[1;32m      9\u001b[0m     \u001b[0;32mfor\u001b[0m \u001b[0mthisDate\u001b[0m \u001b[0;32min\u001b[0m \u001b[0mDateRange\u001b[0m\u001b[0;34m:\u001b[0m\u001b[0;34m\u001b[0m\u001b[0;34m\u001b[0m\u001b[0m\n",
      "\u001b[0;31mNameError\u001b[0m: name 'thisDate' is not defined"
     ]
    }
   ],
   "source": [
    "# Making & Saving Plots\n",
    "\n",
    "colorscale = colorscale_con\n",
    "\n",
    "for thisState in StateRange:\n",
    "    corona_us_state_counties = corona_us_counties.loc[corona_us_counties['state']==thisState,:]\n",
    "    print('--------'+thisState+ '_'+ thisDate+ '---------')\n",
    "    \n",
    "    for thisDate in DateRange:\n",
    "        \n",
    "        if not path.exists('/home/smirs/git_repos/mavad/images/'+ thisState+ '/'+ thisState+ '_'+ thisDate+ '.jpeg'):\n",
    "            print(thisDate+' in '+ thisState, end=\"\\r\", flush=True)\n",
    "            fips   = corona_us_state_counties.loc[corona_us_state_counties['date']==thisDate, 'fips'].tolist()\n",
    "            \n",
    "#             values = np.log10(corona_us_state_counties.loc[corona_us_state_counties['date']==thisDate, 'cases'].tolist())\n",
    "#             endpts = list(np.linspace(0, 4, len(colorscale) - 1))\n",
    "            values = corona_us_state_counties.loc[corona_us_state_counties['date']==thisDate, 'cases'].tolist()\n",
    "            endpts = list(np.linspace(1, 10**4, len(colorscale) - 1)) # adjusted end-points\n",
    "\n",
    "            fig = ff.create_choropleth(fips=fips, values=values, scope = [thisState],\n",
    "                                       binning_endpoints = endpts,\n",
    "                                       colorscale = colorscale,\n",
    "                                       show_state_data = True,\n",
    "                                       show_hover = False,\n",
    "                                       state_outline={'width': 1, 'color': 'gray'},\n",
    "                                       centroid_marker = {\n",
    "                                            'opacity': 10\n",
    "                                        },\n",
    "                                        asp = 2.9,\n",
    "                                        title = 'The Number of Confirmed-Cases of Covid-19 in the State of ' + thisState + ' by County on '+ thisDate,\n",
    "                                        legend_title = 'Log10(Confirmed-Cases)')\n",
    "            fig.layout.template = None\n",
    "            fig['layout']['xaxis']['fixedrange'] = False \n",
    "            fig['layout']['yaxis']['fixedrange'] = False \n",
    "            #py.iplot(fig, filename='covid-19-by-state-full-usa-scope')\n",
    "            fig.write_image('/home/smirs/git_repos/mavad/images/'+ thisState+ '/'+ thisState+ '_'+thisDate+ '.jpeg')\n",
    "        \n",
    "    statepath = '/home/smirs/git_repos/mavad/images/'+thisState\n",
    "    os.chdir(statepath)\n",
    "    os.system('convert -delay 20 *.jpeg movie'+ '_'+ thisState+ '.gif')\n",
    "print('--- Done ---')"
   ]
  },
  {
   "cell_type": "code",
   "execution_count": null,
   "metadata": {},
   "outputs": [],
   "source": [
    "# Making & Saving Plots\n",
    "\n",
    "colorscale = colorscale_con\n",
    "\n",
    "\n",
    "for thisDate in DateRange:\n",
    "    if not path.exists('/home/smirs/git_repos/mavad/images/usa/usa_'+thisDate+ '.jpeg'):\n",
    "        print(thisDate+' in USA', end=\"\\r\", flush=True)\n",
    "        fips   = corona_us_counties.loc[corona_us_counties['date']==thisDate, 'fips'].tolist()\n",
    "        values = np.log10(corona_us_counties.loc[corona_us_counties['date']==thisDate, 'cases'].tolist())\n",
    "        endpts = list(np.linspace(0, 4, len(colorscale) - 1))\n",
    "        fig = ff.create_choropleth(fips=fips, values=values, scope = ['usa'],\n",
    "                                   binning_endpoints = endpts,\n",
    "                                   colorscale = colorscale,\n",
    "                                   show_state_data = True,\n",
    "                                   show_hover = False,\n",
    "                                   state_outline={'width': 1, 'color': 'gray'},\n",
    "                                   centroid_marker = {\n",
    "                                        'opacity': 10\n",
    "                                    },\n",
    "                                    asp = 2.9,\n",
    "                                    title = 'The Number of Confirmed-Cases of Covid-19 in the USA by County on '+ thisDate,\n",
    "                                    legend_title = 'Log10(Confirmed-Cases)')\n",
    "        fig.layout.template = None\n",
    "        fig['layout']['xaxis']['fixedrange'] = False \n",
    "        fig['layout']['yaxis']['fixedrange'] = False \n",
    "        #py.iplot(fig, filename='covid-19-by-state-full-usa-scope')\n",
    "        fig.write_image('/home/smirs/git_repos/mavad/images/usa/usa_'+thisDate+ '.jpeg')\n",
    "\n",
    "path = '/home/smirs/git_repos/mavad/images/usa'\n",
    "os.chdir(path)\n",
    "os.system('convert -delay 20 *.jpeg movie_usa.gif')\n",
    "print('--- Done ---')"
   ]
  },
  {
   "cell_type": "code",
   "execution_count": null,
   "metadata": {},
   "outputs": [],
   "source": []
  },
  {
   "cell_type": "code",
   "execution_count": null,
   "metadata": {},
   "outputs": [],
   "source": []
  }
 ],
 "metadata": {
  "kernelspec": {
   "display_name": "Python 3",
   "language": "python",
   "name": "python3"
  },
  "language_info": {
   "codemirror_mode": {
    "name": "ipython",
    "version": 3
   },
   "file_extension": ".py",
   "mimetype": "text/x-python",
   "name": "python",
   "nbconvert_exporter": "python",
   "pygments_lexer": "ipython3",
   "version": "3.7.4"
  }
 },
 "nbformat": 4,
 "nbformat_minor": 4
}
