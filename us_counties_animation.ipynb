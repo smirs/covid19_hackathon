{
 "cells": [
  {
   "cell_type": "markdown",
   "metadata": {},
   "source": [
    "This Jupyter Notebook include some basic data analysis and visualizations of NYTimes data on COVID-19 which caused a global pandemic in 2020 [data: https://github.com/nytimes/covid-19-data]\n",
    "\n",
    "contact: 🐦twitter@smirshekari"
   ]
  },
  {
   "cell_type": "code",
   "execution_count": 1,
   "metadata": {},
   "outputs": [],
   "source": [
    "%matplotlib inline\n",
    "import pandas as pd\n",
    "import numpy as np\n",
    "import seaborn as sns\n",
    "import matplotlib.pyplot as plt\n",
    "import plotly.offline as py\n",
    "import plotly.figure_factory as ff\n",
    "import plotly.express as px\n",
    "import sys"
   ]
  },
  {
   "cell_type": "code",
   "execution_count": 2,
   "metadata": {},
   "outputs": [],
   "source": [
    "# Import data\n",
    "corona_us_counties = pd.read_csv('/home/smirs/git_repos/mavad/covid-19-data/us-counties.csv')"
   ]
  },
  {
   "cell_type": "code",
   "execution_count": 3,
   "metadata": {},
   "outputs": [],
   "source": [
    "# clean data\n",
    "corona_us_counties = corona_us_counties.dropna()\n",
    "corona_us_counties['fips'] = corona_us_counties['fips'].apply(int)\n",
    "corona_us_counties['fips'] = corona_us_counties['fips'].apply(str)\n",
    "corona_us_counties['fips'] = corona_us_counties['fips'].apply(lambda x: x.zfill(5))"
   ]
  },
  {
   "cell_type": "code",
   "execution_count": 4,
   "metadata": {},
   "outputs": [
    {
     "name": "stdout",
     "output_type": "stream",
     "text": [
      "['rgb(255,245,240)', 'rgb(254,224,210)', 'rgb(252,187,161)', 'rgb(252,146,114)', 'rgb(251,106,74)', 'rgb(239,59,44)', 'rgb(203,24,29)', 'rgb(165,15,21)', 'rgb(103,0,13)']\n"
     ]
    }
   ],
   "source": [
    "# palette\n",
    "colorscale = px.colors.sequential.Reds\n",
    "print(px.colors.sequential.Reds)"
   ]
  },
  {
   "cell_type": "code",
   "execution_count": 5,
   "metadata": {},
   "outputs": [],
   "source": [
    "# Date Ranges\n",
    "DatePool = corona_us_counties['date'].unique()\n",
    "DateRange = DatePool[0:len(DatePool)]"
   ]
  },
  {
   "cell_type": "code",
   "execution_count": null,
   "metadata": {},
   "outputs": [
    {
     "name": "stdout",
     "output_type": "stream",
     "text": [
      "2020-02-06\r"
     ]
    }
   ],
   "source": [
    "# Making & Saving Plots\n",
    "for thisDate in DateRange:\n",
    "    print(thisDate, end=\"\\r\", flush=True)\n",
    "    fips   = corona_us_counties.loc[corona_us_counties['date']==thisDate, 'fips'].tolist()\n",
    "    values = corona_us_counties.loc[corona_us_counties['date']==thisDate, 'cases'].tolist()\n",
    "    endpts = list(np.linspace(0, 70, len(colorscale) - 1))\n",
    "    fig = ff.create_choropleth(fips=fips, values=values, scope = ['usa'],\n",
    "                               binning_endpoints = endpts,\n",
    "                               colorscale = colorscale,\n",
    "                               show_state_data = True,\n",
    "                               show_hover = False,\n",
    "                               state_outline={'width': 1, 'color': 'gray'},\n",
    "                               centroid_marker = {\n",
    "                                    'opacity': 10\n",
    "                                },\n",
    "                                asp = 2.9,\n",
    "                                title = 'The Number of Confirmed-Cases of Covid-19 by County on '+ thisDate,\n",
    "                                legend_title = 'Confirmed-Cases')\n",
    "    fig.layout.template = None\n",
    "    fig['layout']['xaxis']['fixedrange'] = False \n",
    "    fig['layout']['yaxis']['fixedrange'] = False \n",
    "    #py.iplot(fig, filename='covid-19-by-state-full-usa-scope')\n",
    "    fig.write_image('./images/'+thisDate+'_image.jpeg')\n",
    "    sys.stdout.flush()"
   ]
  },
  {
   "cell_type": "code",
   "execution_count": null,
   "metadata": {},
   "outputs": [],
   "source": []
  }
 ],
 "metadata": {
  "kernelspec": {
   "display_name": "Python 3",
   "language": "python",
   "name": "python3"
  },
  "language_info": {
   "codemirror_mode": {
    "name": "ipython",
    "version": 3
   },
   "file_extension": ".py",
   "mimetype": "text/x-python",
   "name": "python",
   "nbconvert_exporter": "python",
   "pygments_lexer": "ipython3",
   "version": "3.7.4"
  }
 },
 "nbformat": 4,
 "nbformat_minor": 4
}
